{
 "cells": [
  {
   "cell_type": "markdown",
   "metadata": {},
   "source": [
    "# Figure 1a. Load summary statistics"
   ]
  },
  {
   "cell_type": "code",
   "execution_count": 1,
   "metadata": {},
   "outputs": [
    {
     "name": "stdout",
     "output_type": "stream",
     "text": [
      "CortThick_case_vs_controls_allepilepsy\n",
      "SubVol_case_vs_controls_allepilepsy\n",
      "CortThick_case_vs_controls_gge\n",
      "SubVol_case_vs_controls_gge\n",
      "CortThick_case_vs_controls_ltle\n",
      "SubVol_case_vs_controls_ltle\n",
      "CortThick_case_vs_controls_rtle\n",
      "SubVol_case_vs_controls_rtle\n"
     ]
    }
   ],
   "source": [
    "from enigmatoolbox.datasets import load_summary_stats\n",
    "\n",
    "# Load summary statistics for a given disease (e.g., epilepsy)\n",
    "sum_stats = load_summary_stats('epilepsy')\n",
    "\n",
    "# List available summary statistic tables\n",
    "for table_name in sum_stats:\n",
    "    print(table_name)\n",
    "    \n",
    "# Extract Cohen's d values\n",
    "CT_d = sum_stats['CortThick_case_vs_controls_ltle']['d_icv']\n",
    "SV_d = sum_stats['SubVol_case_vs_controls_ltle']['d_icv']\n"
   ]
  },
  {
   "cell_type": "markdown",
   "metadata": {},
   "source": [
    "# Figure 2a. Surface data visualization"
   ]
  },
  {
   "cell_type": "code",
   "execution_count": 8,
   "metadata": {},
   "outputs": [],
   "source": [
    "from enigmatoolbox.utils.useful import reorder_sctx\n",
    "import numpy as np\n",
    "from enigmatoolbox.utils.parcellation import parcel_to_surface\n",
    "from enigmatoolbox.plotting import plot_cortical, plot_subcortical\n",
    "\n",
    "# Map parcellated data to the surface (cortical values only)\n",
    "CT_d_fsa5 = parcel_to_surface(CT_d,'aparc_fsa5')\n",
    "\n",
    "# Project data to the surface templates\n",
    "plot_cortical(array_name=CT_d_fsa5, surface_name=\"fsa5\",\n",
    "              size=(800, 400), cmap='Blues_r', color_bar=True, color_range=(-0.5, 0.5))\n",
    "\n",
    "plot_subcortical(array_name=SV_d, size=(800, 400),\n",
    "                 cmap='Blues_r', color_bar=True, color_range=(-0.5, 0.5))\n"
   ]
  },
  {
   "cell_type": "markdown",
   "metadata": {},
   "source": [
    "# Figure 3a. Fetch disease-related gene expression data"
   ]
  },
  {
   "cell_type": "code",
   "execution_count": null,
   "metadata": {},
   "outputs": [],
   "source": [
    "from enigmatoolbox.datasets import fetch_ahba, risk_genes\n",
    "\n",
    "# Fetch gene expression data\n",
    "genes = fetch_ahba()\n",
    "\n",
    "# Get the names of epilepsy-related genes (Focal HS phenotype)\n",
    "epilepsy_genes = risk_genes('epilepsy')['focalhs']\n",
    "\n",
    "# Extract gene expression data for epilepsy (Focal HS)\n",
    "epilepsy_gene_data = genes[genes.columns.intersection(epilepsy_genes)]\n"
   ]
  },
  {
   "cell_type": "markdown",
   "metadata": {},
   "source": [
    "# Figure 4a. Load connectivity data"
   ]
  },
  {
   "cell_type": "code",
   "execution_count": null,
   "metadata": {},
   "outputs": [],
   "source": [
    "from enigmatoolbox.datasets import load_fc, load_sc\n",
    "\n",
    "# Load functional connectivity data\n",
    "fc_ctx, fc_ctx_labels, fc_sctx, fc_sctx_labels = load_fc()\n",
    "\n",
    "# Load structural connectivity data\n",
    "sc_ctx, sc_ctx_labels, sc_sctx, sc_sctx_labels = load_sc()\n"
   ]
  },
  {
   "cell_type": "markdown",
   "metadata": {},
   "source": [
    "# Figure 5a. Hub susceptibility model"
   ]
  },
  {
   "cell_type": "code",
   "execution_count": null,
   "metadata": {},
   "outputs": [],
   "source": [
    "import numpy as np\n",
    "from enigmatoolbox.permutation_testing import spin_test, shuf_test\n",
    "\n",
    "# Remove subcortical values corresponding to the ventricles\n",
    "SubVol_Z_LTLE_r_mean_noVent = SubVol_Z_LTLE_r_mean.drop(['LLatVent', 'RLatVent'])\n",
    "\n",
    "# Compute weighted degree centrality measures\n",
    "fc_ctx_dc = np.sum(fc_ctx, axis=0)\n",
    "fc_sctx_dc = np.sum(fc_sctx, axis=1)\n",
    "\n",
    "# Perform spatial correlations between hubs and mean atrophy\n",
    "fc_ctx_r = np.corrcoef(fc_ctx_dc, CortThick_Z_LTLE_mean)[0, 1]\n",
    "fc_sctx_r = np.corrcoef(fc_sctx_dc, SubVol_Z_LTLE_r_mean_noVent)[0, 1]\n",
    "\n",
    "# Spin permutation testing for two cortical maps\n",
    "fc_ctx_p = spin_test(fc_ctx_dc, CortThick_Z_LTLE_mean, surface_name='fsa5',\n",
    "                     n_rot=1000, type='pearson')\n",
    "\n",
    "# Shuf permutation testing for two subcortical maps\n",
    "fc_sctx_p = shuf_test(fc_sctx_dc, SubVol_Z_LTLE_r_mean_noVent,\n",
    "                      n_rot=1000, type='pearson')\n"
   ]
  },
  {
   "cell_type": "markdown",
   "metadata": {},
   "source": [
    "# Figure 6a. Disease epicenter mapping"
   ]
  },
  {
   "cell_type": "code",
   "execution_count": null,
   "metadata": {},
   "outputs": [],
   "source": [
    "import numpy as np\n",
    "from enigmatoolbox.permutation_testing import spin_test\n",
    "\n",
    "# Identify functional epicenters\n",
    "fc_ctx_epi = []\n",
    "fc_ctx_epi_p = []\n",
    "for seed in range(fc_ctx.shape[0]):\n",
    "    seed_con = fc_ctx[:, seed]\n",
    "    fc_ctx_epi = np.append(fc_ctx_epi, np.corrcoef(seed_con, CortThick_Z_LTLE_mean)[0, 1])\n",
    "    fc_ctx_epi_p = spin_test(seed_con, CortThick_Z_LTLE_mean, surface_name='fsa5',\n",
    "                         n_rot=1000, type='pearson')\n",
    "\n",
    "fc_sctx_epi = []\n",
    "fc_sctx_epi_p = []\n",
    "for seed in range(fc_sctx.shape[0]):\n",
    "    seed_con = fc_sctx[seed, :]\n",
    "    fc_sctx_epi = np.append(fc_sctx_epi, np.corrcoef(seed_con, CortThick_Z_LTLE_mean)[0, 1])\n",
    "    fc_sctx_epi_p = spin_test(seed_con, CortThick_Z_LTLE_mean, surface_name='fsa5',\n",
    "                             n_rot=1000, type='pearson')\n",
    "    "
   ]
  }
 ],
 "metadata": {
  "celltoolbar": "Raw Cell Format",
  "kernelspec": {
   "display_name": "Python 3",
   "language": "python",
   "name": "python3"
  },
  "language_info": {
   "codemirror_mode": {
    "name": "ipython",
    "version": 3
   },
   "file_extension": ".py",
   "mimetype": "text/x-python",
   "name": "python",
   "nbconvert_exporter": "python",
   "pygments_lexer": "ipython3",
   "version": "3.7.4"
  }
 },
 "nbformat": 4,
 "nbformat_minor": 4
}
